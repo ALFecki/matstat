{
 "cells": [
  {
   "cell_type": "code",
   "execution_count": 1,
   "id": "ab427f63-715e-49ed-8b64-dfdf24d73c65",
   "metadata": {
    "scrolled": true
   },
   "outputs": [
    {
     "name": "stdout",
     "output_type": "stream",
     "text": [
      "Requirement already satisfied: numpy in /home/alex/dev/bsuir/matstat/venv/lib/python3.10/site-packages (1.26.4)\n",
      "Requirement already satisfied: pandas in /home/alex/dev/bsuir/matstat/venv/lib/python3.10/site-packages (2.2.0)\n",
      "Requirement already satisfied: matplotlib in /home/alex/dev/bsuir/matstat/venv/lib/python3.10/site-packages (3.8.3)\n",
      "Requirement already satisfied: tabulate in /home/alex/dev/bsuir/matstat/venv/lib/python3.10/site-packages (0.9.0)\n",
      "Requirement already satisfied: python-dateutil>=2.8.2 in /home/alex/dev/bsuir/matstat/venv/lib/python3.10/site-packages (from pandas) (2.8.2)\n",
      "Requirement already satisfied: pytz>=2020.1 in /home/alex/dev/bsuir/matstat/venv/lib/python3.10/site-packages (from pandas) (2024.1)\n",
      "Requirement already satisfied: tzdata>=2022.7 in /home/alex/dev/bsuir/matstat/venv/lib/python3.10/site-packages (from pandas) (2024.1)\n",
      "Requirement already satisfied: contourpy>=1.0.1 in /home/alex/dev/bsuir/matstat/venv/lib/python3.10/site-packages (from matplotlib) (1.2.0)\n",
      "Requirement already satisfied: cycler>=0.10 in /home/alex/dev/bsuir/matstat/venv/lib/python3.10/site-packages (from matplotlib) (0.12.1)\n",
      "Requirement already satisfied: fonttools>=4.22.0 in /home/alex/dev/bsuir/matstat/venv/lib/python3.10/site-packages (from matplotlib) (4.49.0)\n",
      "Requirement already satisfied: kiwisolver>=1.3.1 in /home/alex/dev/bsuir/matstat/venv/lib/python3.10/site-packages (from matplotlib) (1.4.5)\n",
      "Requirement already satisfied: packaging>=20.0 in /home/alex/dev/bsuir/matstat/venv/lib/python3.10/site-packages (from matplotlib) (23.2)\n",
      "Requirement already satisfied: pillow>=8 in /home/alex/dev/bsuir/matstat/venv/lib/python3.10/site-packages (from matplotlib) (10.2.0)\n",
      "Requirement already satisfied: pyparsing>=2.3.1 in /home/alex/dev/bsuir/matstat/venv/lib/python3.10/site-packages (from matplotlib) (3.1.1)\n",
      "Requirement already satisfied: six>=1.5 in /home/alex/dev/bsuir/matstat/venv/lib/python3.10/site-packages (from python-dateutil>=2.8.2->pandas) (1.16.0)\n",
      "\n",
      "\u001b[1m[\u001b[0m\u001b[34;49mnotice\u001b[0m\u001b[1;39;49m]\u001b[0m\u001b[39;49m A new release of pip is available: \u001b[0m\u001b[31;49m23.2.1\u001b[0m\u001b[39;49m -> \u001b[0m\u001b[32;49m24.0\u001b[0m\n",
      "\u001b[1m[\u001b[0m\u001b[34;49mnotice\u001b[0m\u001b[1;39;49m]\u001b[0m\u001b[39;49m To update, run: \u001b[0m\u001b[32;49mpip install --upgrade pip\u001b[0m\n"
     ]
    },
    {
     "name": "stderr",
     "output_type": "stream",
     "text": [
      "/tmp/ipykernel_38025/2744807836.py:3: DeprecationWarning: \n",
      "Pyarrow will become a required dependency of pandas in the next major release of pandas (pandas 3.0),\n",
      "(to allow more performant data types, such as the Arrow string type, and better interoperability with other libraries)\n",
      "but was not found to be installed on your system.\n",
      "If this would cause problems for you,\n",
      "please provide us feedback at https://github.com/pandas-dev/pandas/issues/54466\n",
      "        \n",
      "  import pandas as pd\n"
     ]
    }
   ],
   "source": [
    "import sys\n",
    "!{sys.executable} -m pip install numpy pandas matplotlib tabulate\n",
    "import pandas as pd\n",
    "import numpy as np\n",
    "import matplotlib.pyplot as plt\n",
    "from scipy.stats import geom, binom, poisson, uniform, norm, expon\n",
    "from tabulate import tabulate\n",
    "from IPython.display import HTML, display"
   ]
  },
  {
   "cell_type": "code",
   "execution_count": 2,
   "id": "9b1b5e6d-3524-47a0-954c-5191cf030843",
   "metadata": {},
   "outputs": [
    {
     "name": "stdout",
     "output_type": "stream",
     "text": [
      "[array([3, 1, 1, ..., 1, 1, 3]), array([ 90.547448,  80.548716,  92.992958, ...,   9.088514, 328.988096,\n",
      "        84.872411]), array([0.002163, 0.023507, 0.067606, ..., 0.109763, 0.041012, 0.040421])]\n"
     ]
    }
   ],
   "source": [
    "data_sets_files = ['set_1.csv', 'set_2.csv', 'set_3.csv']\n",
    "data_sets = [pd.read_csv(filename, header=None).values.flatten() for filename in data_sets_files]"
   ]
  },
  {
   "cell_type": "code",
   "execution_count": 10,
   "id": "98b0ef40-d114-4129-b1df-b5921f5e30bc",
   "metadata": {},
   "outputs": [
    {
     "data": {
      "text/html": [
       "<table>\n",
       "<tr>\n",
       "<th></th>\n",
       "['<th>set_1.csv</th>', '<th>set_2.csv</th>', '<th>set_3.csv</th>']\n",
       "</tr>\n",
       "<tr>\n",
       "<td>Mean</td>\n",
       "['<td>3.44078</td>', '<td>16.243283213799984</td>', '<td>0.12448845074999802</td>']\n",
       "</tr>\n",
       "<tr>\n",
       "<td>Variance</td>\n",
       "['<td>10.048293474534747</td>', '<td>10928.497477401086</td>', '<td>0.025645691475053228</td>']\n",
       "</tr>\n",
       "</table>"
      ],
      "text/plain": [
       "<IPython.core.display.HTML object>"
      ]
     },
     "metadata": {},
     "output_type": "display_data"
    }
   ],
   "source": [
    "def mean(values):\n",
    "    if not values:\n",
    "        return None\n",
    "    return sum(values) / len(values)\n",
    "\n",
    "def variance(data, mean):\n",
    "    n = len(data)\n",
    "    if n < 2:\n",
    "        raise ValueError(\"The data should contain at least two elements.\")\n",
    "    \n",
    "    squared_diffs = [(x - mean) ** 2 for x in data]\n",
    "    return np.sum(squared_diffs) / (n - 1)\n",
    "\n",
    "mean_arr = [mean(data_set.tolist()) for data_set in data_sets]\n",
    "variance_arr = [variance(data_set.tolist(), mean_set) for data_set, mean_set in zip(data_sets, mean_arr)]\n",
    "\n",
    "data = {\n",
    "    'Headers': data_sets_files,\n",
    "    'Mean': mean_arr,\n",
    "    'Variance': variance_arr\n",
    "}\n",
    "table = f\"\"\"<table>\n",
    "<tr>\n",
    "<th></th>\n",
    "{[f\"<th>{header}</th>\" for header in data_sets_files]}\n",
    "</tr>\n",
    "<tr>\n",
    "<td>Mean</td>\n",
    "{[f\"<td>{mean}</td>\" for mean in data[\"Mean\"]]}\n",
    "</tr>\n",
    "<tr>\n",
    "<td>Variance</td>\n",
    "{[f\"<td>{variance}</td>\" for variance in data[\"Variance\"]]}\n",
    "</tr>\n",
    "</table>\"\"\"\n",
    "\n",
    "display(HTML(table))"
   ]
  },
  {
   "cell_type": "code",
   "execution_count": null,
   "id": "5dd27c95-75fb-4b8f-ad5f-6bd53a4cf976",
   "metadata": {},
   "outputs": [],
   "source": []
  },
  {
   "cell_type": "code",
   "execution_count": null,
   "id": "22ef81a1-c125-4bb6-bd8c-711660d2d071",
   "metadata": {},
   "outputs": [],
   "source": []
  }
 ],
 "metadata": {
  "kernelspec": {
   "display_name": "Python 3 (ipykernel)",
   "language": "python",
   "name": "python3"
  },
  "language_info": {
   "codemirror_mode": {
    "name": "ipython",
    "version": 3
   },
   "file_extension": ".py",
   "mimetype": "text/x-python",
   "name": "python",
   "nbconvert_exporter": "python",
   "pygments_lexer": "ipython3",
   "version": "3.10.12"
  }
 },
 "nbformat": 4,
 "nbformat_minor": 5
}
